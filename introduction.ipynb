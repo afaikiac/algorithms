{
 "cells": [
  {
   "cell_type": "markdown",
   "id": "a89af6c1",
   "metadata": {},
   "source": [
    "[263. Ugly Number](https://leetcode.com/problems/ugly-number/)"
   ]
  },
  {
   "cell_type": "code",
   "execution_count": null,
   "id": "dc291901",
   "metadata": {},
   "outputs": [],
   "source": [
    "class Solution:  # type: ignore\n",
    "    def isUgly(self, n: float) -> bool:\n",
    "        \"\"\"Return True if n is an ugly number.\n",
    "\n",
    "        >>> solution = Solution()\n",
    "        >>> [solution.isUgly(n) for n in [6, 1, 14, 0, -6, 29]]\n",
    "        [True, True, False, False, False, False]\n",
    "        \"\"\"\n",
    "        if not n:\n",
    "            return False\n",
    "        for d in [2, 3, 5]:\n",
    "            while not n % d:\n",
    "                n = n / d\n",
    "        return n == 1"
   ]
  },
  {
   "cell_type": "markdown",
   "id": "a30dccec",
   "metadata": {},
   "source": [
    "[7. Reverse Integer](https://leetcode.com/problems/reverse-integer/)"
   ]
  },
  {
   "cell_type": "code",
   "execution_count": null,
   "id": "b2eb1b3d",
   "metadata": {},
   "outputs": [],
   "source": [
    "class Solution:  # type: ignore\n",
    "    def reverse(self, x: int) -> int:\n",
    "        \"\"\"Return the reverse of x.\n",
    "\n",
    "        >>> reverse = Solution().reverse\n",
    "        >>> [reverse(x) for x in [123, -123, 120, 0, 2147483647]]\n",
    "        [321, -321, 21, 0, 0]\n",
    "        \"\"\"\n",
    "        x_rev = 0\n",
    "        if x == 0:\n",
    "            pass\n",
    "        elif x < 0:\n",
    "            x_rev = int('-' + str(x)[:0:-1].lstrip(\"0\"))\n",
    "        else:\n",
    "            x_rev = int(str(x)[::-1].lstrip(\"0\"))\n",
    "\n",
    "        if x_rev < -2147483648 or x_rev > 2147483647:\n",
    "            x_rev = 0\n",
    "\n",
    "        return x_rev"
   ]
  },
  {
   "cell_type": "code",
   "execution_count": null,
   "id": "b025f8b3",
   "metadata": {},
   "outputs": [],
   "source": [
    "class Solution:  # type: ignore\n",
    "    def reverse(self, x: int) -> int:\n",
    "        \"\"\"Return the reverse of x.\n",
    "\n",
    "        >>> reverse = Solution().reverse\n",
    "        >>> [reverse(x) for x in [123, -123, 120, 0, 2147483647]]\n",
    "        [321, -321, 21, 0, 0]\n",
    "        \"\"\"\n",
    "\n",
    "        sign = -1 if x < 0 else 1\n",
    "        x_unsigned = sign * x\n",
    "        x_rev: int = 0\n",
    "\n",
    "        while x_unsigned != 0:\n",
    "            x_rev = x_rev * 10 + x_unsigned % 10\n",
    "            x_unsigned //= 10\n",
    "            if x_rev > 2147483647:\n",
    "                return 0\n",
    "        return sign * x_rev"
   ]
  },
  {
   "cell_type": "markdown",
   "id": "096ca070",
   "metadata": {},
   "source": [
    "[9. Palindrome Number](https://leetcode.com/problems/palindrome-number/)"
   ]
  },
  {
   "cell_type": "code",
   "execution_count": null,
   "id": "583cf4fa",
   "metadata": {},
   "outputs": [],
   "source": [
    "class Solution:  # type: ignore\n",
    "    def isPalindrome(self, x: int) -> bool:\n",
    "        \"\"\"Return True if x is palindrome integer.\n",
    "\n",
    "        >>> isPalindrome = Solution().isPalindrome\n",
    "        >>> [isPalindrome(x) for x in [121, -121, 10, 1234321, 1234567, 12345678, 0]]\n",
    "        [True, False, False, True, False, False, True]\n",
    "        \"\"\"\n",
    "\n",
    "        if x < 0:\n",
    "            return False\n",
    "\n",
    "        x_str: str = str(x)\n",
    "        x_len: int = len(x_str)\n",
    "        x_half_len: int = x_len // 2\n",
    "        even: int = 1 if x_len % 2 == 0 else 0\n",
    "\n",
    "        if x_str[:x_half_len] == x_str[x_len:x_half_len-even:-1]:\n",
    "            return True\n",
    "\n",
    "        return False"
   ]
  },
  {
   "cell_type": "code",
   "execution_count": null,
   "id": "97225822",
   "metadata": {},
   "outputs": [],
   "source": [
    "class Solution:  # type: ignore\n",
    "    def isPalindrome(self, x: int) -> bool:\n",
    "        \"\"\"Return True if x is palindrome integer.\n",
    "\n",
    "        >>> isPalindrome = Solution().isPalindrome\n",
    "        >>> [isPalindrome(x) for x in [121, -121, 10, 1234321, 1234567, 12345678, 0, 7]]\n",
    "        [True, False, False, True, False, False, True, True]\n",
    "        \"\"\"\n",
    "\n",
    "        if x == 0:\n",
    "            return True\n",
    "\n",
    "        if (x < 0) or (x % 10 == 0):\n",
    "            return False\n",
    "\n",
    "        result: int = 0\n",
    "        while result < x:\n",
    "            result = result * 10 + x % 10\n",
    "            x //= 10\n",
    "\n",
    "        return result == x or result // 10 == x"
   ]
  },
  {
   "cell_type": "code",
   "execution_count": null,
   "id": "1f75aaab",
   "metadata": {},
   "outputs": [],
   "source": [
    "class Solution:  # type: ignore\n",
    "    def isPalindrome(self, x: int) -> bool:\n",
    "        \"\"\"Return True if x is palindrome integer.\n",
    "\n",
    "        >>> isPalindrome = Solution().isPalindrome\n",
    "        >>> [isPalindrome(x) for x in [121, -121, 10, 1234321, 1234567, 12345678, 0, 7]]\n",
    "        [True, False, False, True, False, False, True, True]\n",
    "        \"\"\"\n",
    "\n",
    "        x_str = str(x)\n",
    "        return x_str == x_str[::-1]"
   ]
  },
  {
   "cell_type": "markdown",
   "id": "be2ed5ab",
   "metadata": {},
   "source": [
    "[50. Pow(x, n)](https://leetcode.com/problems/powx-n/)"
   ]
  },
  {
   "cell_type": "code",
   "execution_count": null,
   "id": "ca2fab54",
   "metadata": {},
   "outputs": [],
   "source": [
    "class Solution:  # type: ignore\n",
    "    @staticmethod\n",
    "    def myPow(x: float, n: int):\n",
    "        \"\"\"Fast power calculation using repeated squaring.\n",
    "        9^11 == 9^1011_2\n",
    "        r = 9; x = 9^2\n",
    "        r = 9^3; x = 9^4\n",
    "        r = 9^3; x = 9^8\n",
    "        r = 9^11;\n",
    "\n",
    "        Good, but x**n faster :)\n",
    "        \"\"\"\n",
    "        if n < 0:\n",
    "            return 1 / Solution.myPow(x, -n)  # type: ignore\n",
    "        result: float = 1\n",
    "        while n:\n",
    "            if n & 1:\n",
    "                result *= x\n",
    "            n >>= 1\n",
    "            x *= x\n",
    "        return result"
   ]
  },
  {
   "cell_type": "markdown",
   "id": "fa498bec",
   "metadata": {},
   "source": [
    "[365. Water and Jug Problem](https://leetcode.com/problems/water-and-jug-problem/)\n",
    "\n",
    "Решим линейное диафантово уравнение: $ax + by = c$\n",
    "По алгоритму Евклида: $gcd(a, b) = d$\n",
    "По расширенному алгоритму Евклида: $ak + bl = d$\n",
    "$$ax + by = a(qk) + b(ql) = q(ak + bl) = qd = c$$\n",
    "Значит это уравнение имеет хотя бы 1 решение титтк $c$ кратно $gcd(a, b) = d$\n",
    "\n",
    "[wiki#Алгоритм_Евклида#Линейные_диофантовы_уравнения](https://ru.wikipedia.org/wiki/Алгоритм_Евклида#Линейные_диофантовы_уравнения)"
   ]
  },
  {
   "cell_type": "code",
   "execution_count": null,
   "id": "bf43cafb",
   "metadata": {},
   "outputs": [],
   "source": [
    "import math  # noqa: E402\n",
    "\n",
    "\n",
    "class Solution:  # type: ignore\n",
    "    def canMeasureWater(self, jug1Capacity: int, jug2Capacity: int, targetCapacity: int) -> bool:\n",
    "        \"\"\"Is it possible to measure target water capacity with two jugs?\n",
    "        \n",
    "        >>> canMeasureWater = Solution().canMeasureWater\n",
    "        >>> [canMeasureWater(*arr) for arr in [[3, 5, 4], [2, 6, 5], [1, 2, 3], [6, 9, 1], [4, 6, 8]]]\n",
    "        [True, False, True, False, True]\n",
    "        \"\"\"\n",
    "        return jug1Capacity + jug2Capacity >= targetCapacity and \\\n",
    "            targetCapacity % math.gcd(jug2Capacity, jug1Capacity) == 0"
   ]
  },
  {
   "cell_type": "code",
   "execution_count": null,
   "id": "90a4ed53",
   "metadata": {},
   "outputs": [],
   "source": [
    "if __name__ == \"__main__\":\n",
    "    import doctest\n",
    "    doctest.testmod()"
   ]
  },
  {
   "cell_type": "code",
   "execution_count": null,
   "id": "2f158476",
   "metadata": {},
   "outputs": [],
   "source": []
  }
 ],
 "metadata": {
  "jupytext": {
   "main_language": "python"
  }
 },
 "nbformat": 4,
 "nbformat_minor": 5
}
